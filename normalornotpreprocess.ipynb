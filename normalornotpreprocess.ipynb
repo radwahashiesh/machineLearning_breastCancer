{
  "cells": [
    {
      "cell_type": "markdown",
      "metadata": {
        "id": "view-in-github",
        "colab_type": "text"
      },
      "source": [
        "<a href=\"https://colab.research.google.com/github/radwahashiesh/machineLearning_breastCancer/blob/main/normalornotpreprocess.ipynb\" target=\"_parent\"><img src=\"https://colab.research.google.com/assets/colab-badge.svg\" alt=\"Open In Colab\"/></a>"
      ]
    },
    {
      "cell_type": "markdown",
      "id": "dfa781c5",
      "metadata": {
        "id": "dfa781c5"
      },
      "source": [
        "# multiClass"
      ]
    },
    {
      "cell_type": "markdown",
      "source": [
        "# Libraries "
      ],
      "metadata": {
        "id": "ySs645WVSg-q"
      },
      "id": "ySs645WVSg-q"
    },
    {
      "cell_type": "code",
      "execution_count": null,
      "id": "05f76516",
      "metadata": {
        "id": "05f76516"
      },
      "outputs": [],
      "source": [
        "import pandas as pd\n",
        "\n",
        "import matplotlib.pyplot as plt\n",
        "\n",
        "from sklearn.model_selection import train_test_split\n",
        "from sklearn.preprocessing import StandardScaler\n",
        "\n",
        "\n",
        "from sklearn.neural_network import MLPClassifier\n",
        "\n",
        "from sklearn.metrics import accuracy_score\n",
        "from sklearn.metrics import plot_confusion_matrix\n",
        "from sklearn.metrics import classification_report\n",
        "\n",
        "from sklearn.model_selection import GridSearchCV\n",
        "import glob\n",
        "import cv2\n",
        "import numpy as np\n",
        "import matplotlib.pyplot  as plt \n",
        "from scipy.signal import convolve2d\n",
        "import scipy.misc\n",
        "import scipy.ndimage\n",
        "from sklearn.neighbors import KNeighborsClassifier  \n",
        "from sklearn.metrics import accuracy_score\n",
        "from sklearn.model_selection import train_test_split\n",
        "from sklearn.preprocessing import StandardScaler  \n",
        "from sklearn.metrics import precision_score, confusion_matrix,recall_score, f1_score, cohen_kappa_score\n",
        "from sklearn.neural_network import MLPClassifier\n",
        "from sklearn.linear_model import LogisticRegression\n",
        "from sklearn.tree import DecisionTreeClassifier\n",
        "from sklearn.svm import SVC\n",
        "import pandas as pd\n",
        "import os\n",
        "from skimage.transform import resize\n",
        "from skimage.io import imread\n",
        "import numpy as np\n",
        "from scipy.signal import convolve2d\n",
        "import scipy.misc\n",
        "import scipy.ndimage\n",
        "from scipy import stats\n",
        "\n",
        "import matplotlib.pyplot as plt"
      ]
    },
    {
      "cell_type": "code",
      "source": [
        "from google.colab import drive\n",
        "drive.mount('/content/drive')"
      ],
      "metadata": {
        "colab": {
          "base_uri": "https://localhost:8080/"
        },
        "id": "8kvxAzQkSqdw",
        "outputId": "896ab6bf-7d14-4aaa-9c35-8fc584ff1dcd"
      },
      "id": "8kvxAzQkSqdw",
      "execution_count": null,
      "outputs": [
        {
          "output_type": "stream",
          "name": "stdout",
          "text": [
            "Drive already mounted at /content/drive; to attempt to forcibly remount, call drive.mount(\"/content/drive\", force_remount=True).\n"
          ]
        }
      ]
    },
    {
      "cell_type": "code",
      "source": [
        "# Print the confusion matrix using Matplotlib\n",
        "def cm(y_test, y_pred,name):\n",
        " title=\"confusion matrix of \"+ name\n",
        " conf_matrix = confusion_matrix(y_test, y_pred)\n",
        " fig, ax = plt.subplots(figsize=(5, 5))\n",
        " ax.matshow(conf_matrix, cmap=plt.cm.Oranges, alpha=0.3)\n",
        " for i in range(conf_matrix.shape[0]):\n",
        "    for j in range(conf_matrix.shape[1]):\n",
        "        ax.text(x=j, y=i,s=conf_matrix[i, j], va='center', ha='center', size='xx-large')\n",
        " plt.xlabel('Predictions', fontsize=18)\n",
        " plt.ylabel('Actuals', fontsize=18)\n",
        " plt.title(title, fontsize=18)\n",
        " plt.show()"
      ],
      "metadata": {
        "id": "ckYJvJ0DeK2M"
      },
      "execution_count": null,
      "outputs": [],
      "id": "ckYJvJ0DeK2M"
    },
    {
      "cell_type": "code",
      "source": [
        "def performance(y_test, y_pred):\n",
        "  p= precision_score(y_test, y_pred,average='weighted')\n",
        "  r=recall_score(y_test, y_pred,average='weighted')\n",
        "  a=accuracy_score(y_test, y_pred)\n",
        "  f1=f1_score(y_test, y_pred,average='weighted')\n",
        "  \n",
        "  return  p,r,a,f1\n"
      ],
      "metadata": {
        "id": "7dxE6OXQqmHh"
      },
      "execution_count": null,
      "outputs": [],
      "id": "7dxE6OXQqmHh"
    },
    {
      "cell_type": "code",
      "execution_count": null,
      "id": "81cea9d6",
      "metadata": {
        "colab": {
          "base_uri": "https://localhost:8080/"
        },
        "id": "81cea9d6",
        "outputId": "32e83e5c-2eb1-48fb-8d7d-1091dcead539"
      },
      "outputs": [
        {
          "output_type": "stream",
          "name": "stdout",
          "text": [
            "loading... category : upnormal\n",
            "loaded category:upnormal successfully\n",
            "loaded category:upnormal successfully\n"
          ]
        }
      ],
      "source": [
        "Categories=['upnormal','normal']\n",
        "flat_data_arr=[]\n",
        "#input array\n",
        "target_arr=[]\n",
        "#output array\n",
        "datadir='/content/drive/MyDrive/graduation_project/dataset/normalnot/'\n",
        " \n",
        "#path which contains all the categories of images\n",
        "for i in Categories:\n",
        "    \n",
        "   print(f'loading... category : {i}')   \n",
        "   path=os.path.join(datadir,i) \n",
        "   for img in os.listdir(path):  \n",
        "      img_array=imread(os.path.join(path,img)) \n",
        "      img_resized=resize(img_array,(128,128,3)) \n",
        "      gray = cv2.cvtColor(np.float32(img_resized), cv2.COLOR_RGB2GRAY)\n",
        "      #grayimg = cv2.cvtColor(frame, cv2.COLOR_BGR2GRAY)\n",
        "      #img=scipy.ndimage.gaussian_filter(img_resized, 5)\n",
        "      #img1= cv2.Laplacian(img_resized,cv2.CV_64F)\n",
        "      #sobelx = cv2.Sobel(img_resized,cv2.CV_64F,1,0,ksize=5)  # x\n",
        "      #sobely = cv2.Sobel(img_resized,cv2.CV_64F,0,1,ksize=5)  # y\n",
        "      #sobel=sobelx+sobely\n",
        "      #kernelx = np.array([[1,1,1],[0,0,0],[-1,-1,-1]])\n",
        "      #kernely = np.array([[-1,0,1],[-1,0,1],[-1,0,1]])\n",
        "      #img_prewittx = cv2.filter2D(img, -1, kernelx)\n",
        "      #img_prewitty = cv2.filter2D(img, -1, kernely)\n",
        "      #img_prewitt=img_prewittx + img_prewitty\n",
        "      flat_data_arr.append(gray)   \n",
        "      target_arr.append(Categories.index(i))   \n",
        "      print(f'loaded category:{i} successfully')\n",
        "      target=np.array(target_arr)\n"
      ]
    },
    {
      "cell_type": "markdown",
      "source": [
        ""
      ],
      "metadata": {
        "id": "lVgRvpFTfBY3"
      },
      "id": "lVgRvpFTfBY3"
    },
    {
      "cell_type": "code",
      "execution_count": null,
      "id": "d1d9a7e5",
      "metadata": {
        "id": "d1d9a7e5"
      },
      "outputs": [],
      "source": [
        "plt.imshow(flat_data_arr[250],cmap='gray')\n",
        "plt.title(Categories[target[250]])\n",
        "plt.show()"
      ]
    },
    {
      "cell_type": "code",
      "source": [
        "import numpy as np\n",
        "import cv2 as cv\n",
        "from matplotlib import pyplot as plt\n",
        "def cannny(i):\n",
        "  i=(i*255).astype(np.uint8)\n",
        "  edges = cv.Canny(i,100,200)\n",
        "  return edges\n",
        "canny=[]\n",
        "for i in flat_data_arr:\n",
        "  x=cannny(i)\n",
        "  canny.append(x)\n",
        " "
      ],
      "metadata": {
        "id": "4FLh1I2gBD2j"
      },
      "id": "4FLh1I2gBD2j",
      "execution_count": null,
      "outputs": []
    },
    {
      "cell_type": "code",
      "source": [
        "plt.subplot(121),plt.imshow(flat_data_arr[5],cmap = 'gray')\n",
        "plt.title('Original Image'), plt.xticks([]), plt.yticks([])\n",
        "plt.subplot(122),plt.imshow(canny[5],cmap = 'gray')\n",
        "plt.title('canny Edge Image'), plt.xticks([]), plt.yticks([])\n",
        "plt.show()"
      ],
      "metadata": {
        "id": "CGZa5Q1sBR5i"
      },
      "id": "CGZa5Q1sBR5i",
      "execution_count": null,
      "outputs": []
    },
    {
      "cell_type": "code",
      "execution_count": null,
      "id": "090ce5b5",
      "metadata": {
        "id": "090ce5b5"
      },
      "outputs": [],
      "source": [
        "x=[]\n",
        "for i in canny:\n",
        "  x.append(i.flatten())\n",
        "from sklearn.model_selection import train_test_split\n",
        "X_train, X_test, Y_train, Y_test = train_test_split(x, target, test_size = 0.3, random_state = 42,stratify=target)"
      ]
    },
    {
      "cell_type": "code",
      "execution_count": null,
      "id": "0d6c1e4f",
      "metadata": {
        "id": "0d6c1e4f"
      },
      "outputs": [],
      "source": [
        "#Feature Scalingfrom sklearn.preprocessing import StandardScaler\n",
        "sc = StandardScaler()\n",
        "X_train = sc.fit_transform(X_train)\n",
        "X_test = sc.transform(X_test)"
      ]
    },
    {
      "cell_type": "code",
      "execution_count": null,
      "id": "6862621a",
      "metadata": {
        "id": "6862621a"
      },
      "outputs": [],
      "source": [
        "\n",
        "#Using Logistic Regression Algorithm to the Training Setfrom sklearn.linear_model import LogisticRegression\n",
        "classifierlr = LogisticRegression(penalty='l2', solver='liblinear')\n",
        "classifierlr.fit(X_train, Y_train)\n",
        "grid_predictionslr = classifierlr.predict(X_test) \n",
        "cm(Y_test, grid_predictionslr,\"Logistic Regression\")\n",
        "p1,r1,a1,f1=performance(Y_test, grid_predictionslr)"
      ]
    },
    {
      "cell_type": "code",
      "execution_count": null,
      "id": "98abf3d3",
      "metadata": {
        "id": "98abf3d3"
      },
      "outputs": [],
      "source": [
        "#Using KNeighborsClassifier Method of neighbors class to use Nearest Neighbor algorithmfrom sklearn.neighbors import KNeighborsClassifier\n",
        "classifierknn = KNeighborsClassifier(n_neighbors = 5, metric = 'minkowski', p = 2)\n",
        "classifierknn.fit(X_train, Y_train)\n",
        "grid_predictionsknn = classifierknn.predict(X_test) \n",
        "cm(Y_test, grid_predictionsknn,\"KNeighborsClassifier\")\n",
        "p2,r2,a2,f2=performance(Y_test, grid_predictionsknn)"
      ]
    },
    {
      "cell_type": "code",
      "execution_count": null,
      "id": "e4dee9f7",
      "metadata": {
        "id": "e4dee9f7"
      },
      "outputs": [],
      "source": [
        "#Using SVC method of svm class to use Support Vector Machine Algorithm\n",
        "from sklearn.svm import SVC\n",
        "classifiersvm = SVC(kernel = 'rbf')\n",
        "classifiersvm.fit(X_train, Y_train)\n",
        "grid_predictionssvm = classifiersvm.predict(X_test) \n",
        "\n",
        "cm(Y_test, grid_predictionssvm,\"SVM\")\n",
        "p3,r3,a3,f3=performance(Y_test, grid_predictionssvm)"
      ]
    },
    {
      "cell_type": "code",
      "execution_count": null,
      "id": "c692db66",
      "metadata": {
        "id": "c692db66"
      },
      "outputs": [],
      "source": [
        "#Using GaussianNB method of naïve_bayes class to use Naïve Bayes Algorithm\n",
        "from sklearn.naive_bayes import GaussianNB\n",
        "classifiernb = GaussianNB()\n",
        "classifiernb.fit(X_train, Y_train)\n",
        "\n",
        "grid_predictionsnb = classifiernb.predict(X_test) \n",
        "cm(Y_test, grid_predictionsnb,\"naive_bayes\")\n",
        "p4,r4,a4,f4=performance(Y_test, grid_predictionsnb)"
      ]
    },
    {
      "cell_type": "code",
      "execution_count": null,
      "id": "3e25581d",
      "metadata": {
        "id": "3e25581d"
      },
      "outputs": [],
      "source": [
        "#Using RandomForestClassifier method of ensemble class to use Random Forest Classification algorithm\n",
        "from sklearn.ensemble import RandomForestClassifier\n",
        "classifierrf = RandomForestClassifier(n_estimators = 10, criterion = 'entropy', random_state = 42)\n",
        "classifierrf.fit(X_train, Y_train)\n",
        "grid_predictionsrf = classifierrf.predict(X_test) \n",
        "cm(Y_test, grid_predictionsrf,\"RandomForestClassifier\")\n",
        "p5,r5,a5,f5=performance(Y_test, grid_predictionsrf)"
      ]
    },
    {
      "cell_type": "code",
      "source": [
        "from tabulate import tabulate\n",
        "data = [[\"Logistic Regression\",p1,r1,a1,f1],\n",
        "[\"K Neighbors Classifier\", p2,r2,a2,f2],\n",
        "[\"Support Vector Machine\",p3,r3,a3,f3],\n",
        "[ \"Naïve Bayes Classifier\",p4,r4,a4,f4],\n",
        " [\"Random Forest Classifier\" ,p5,r5,a5,f5]\n",
        "]\n",
        "print (tabulate(data, headers=[\"Classifier\",\"precision\",\"recall\",\"accuracy\",\"f1_score\"]))"
      ],
      "metadata": {
        "id": "p_vzCk4bPoM6"
      },
      "id": "p_vzCk4bPoM6",
      "execution_count": null,
      "outputs": []
    },
    {
      "cell_type": "code",
      "source": [
        ""
      ],
      "metadata": {
        "id": "F125GTK1Ska3"
      },
      "id": "F125GTK1Ska3",
      "execution_count": null,
      "outputs": []
    }
  ],
  "metadata": {
    "kernelspec": {
      "display_name": "Python 3 (ipykernel)",
      "language": "python",
      "name": "python3"
    },
    "language_info": {
      "codemirror_mode": {
        "name": "ipython",
        "version": 3
      },
      "file_extension": ".py",
      "mimetype": "text/x-python",
      "name": "python",
      "nbconvert_exporter": "python",
      "pygments_lexer": "ipython3",
      "version": "3.9.7"
    },
    "colab": {
      "name": "normalornotpreprocess.ipynb",
      "provenance": [],
      "collapsed_sections": [],
      "include_colab_link": true
    },
    "accelerator": "GPU",
    "gpuClass": "standard"
  },
  "nbformat": 4,
  "nbformat_minor": 5
}